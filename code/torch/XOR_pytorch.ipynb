{
 "cells": [
  {
   "cell_type": "code",
   "execution_count": 4,
   "id": "ac651297",
   "metadata": {},
   "outputs": [],
   "source": [
    "import torch"
   ]
  },
  {
   "cell_type": "code",
   "execution_count": 5,
   "id": "3d517381",
   "metadata": {},
   "outputs": [
    {
     "data": {
      "text/plain": [
       "'2.0.1'"
      ]
     },
     "execution_count": 5,
     "metadata": {},
     "output_type": "execute_result"
    }
   ],
   "source": [
    "torch.__version__"
   ]
  },
  {
   "cell_type": "code",
   "execution_count": 6,
   "id": "c7df82e9",
   "metadata": {},
   "outputs": [
    {
     "data": {
      "text/plain": [
       "True"
      ]
     },
     "execution_count": 6,
     "metadata": {},
     "output_type": "execute_result"
    }
   ],
   "source": [
    "torch.cuda.is_available()"
   ]
  },
  {
   "cell_type": "code",
   "execution_count": 7,
   "id": "5a6c3278",
   "metadata": {},
   "outputs": [
    {
     "data": {
      "text/plain": [
       "'11.7'"
      ]
     },
     "execution_count": 7,
     "metadata": {},
     "output_type": "execute_result"
    }
   ],
   "source": [
    "torch.version.cuda"
   ]
  },
  {
   "cell_type": "code",
   "execution_count": 8,
   "id": "71dcefa1",
   "metadata": {},
   "outputs": [],
   "source": [
    "import numpy as np\n",
    "from torch import Tensor\n",
    "Xs = Tensor(np.array([[0,1],[1,0],[1,1],[0,0]]))\n",
    "Ys = Tensor(np.array([[1],[1],[0],[0]]))"
   ]
  },
  {
   "cell_type": "code",
   "execution_count": 9,
   "id": "268508c5",
   "metadata": {},
   "outputs": [],
   "source": [
    "from torch import nn\n",
    "from torch.optim import Adam\n",
    "class XORModel(nn.Module):\n",
    "    def __init__(self):\n",
    "        super().__init__()\n",
    "        self.layers = nn.Sequential(\n",
    "            nn.Linear(2,2),\n",
    "            nn.Sigmoid(),\n",
    "            nn.Linear(2,1),\n",
    "            nn.Sigmoid()\n",
    "        )\n",
    "        self.optimizer = Adam(self.parameters())\n",
    "        self.loss = nn.MSELoss()\n",
    "        \n",
    "    def forward(self,X):\n",
    "        return self.layers(X)\n",
    "    \n",
    "    def fit(self,X,y_true):\n",
    "        self.optimizer.zero_grad()\n",
    "        y_pred = self.forward(X)\n",
    "        loss = self.loss(y_true,y_pred)\n",
    "        loss.backward()\n",
    "        self.optimizer.step()\n",
    "        return loss.item()"
   ]
  },
  {
   "cell_type": "code",
   "execution_count": 10,
   "id": "74d6a3dd",
   "metadata": {},
   "outputs": [],
   "source": [
    "xor_model = XORModel()"
   ]
  },
  {
   "cell_type": "code",
   "execution_count": 11,
   "id": "cc2e43dd",
   "metadata": {},
   "outputs": [
    {
     "data": {
      "text/plain": [
       "tensor([[0.3873],\n",
       "        [0.4048],\n",
       "        [0.3978],\n",
       "        [0.3946]], grad_fn=<SigmoidBackward0>)"
      ]
     },
     "execution_count": 11,
     "metadata": {},
     "output_type": "execute_result"
    }
   ],
   "source": [
    "xor_model(Xs)"
   ]
  },
  {
   "cell_type": "code",
   "execution_count": 12,
   "id": "34d5d00e",
   "metadata": {},
   "outputs": [
    {
     "name": "stdout",
     "output_type": "stream",
     "text": [
      "0.2608967423439026\n",
      "0.24998939037322998\n",
      "0.2467997521162033\n",
      "0.19159260392189026\n",
      "0.10843473672866821\n",
      "0.06367824226617813\n",
      "0.039088547229766846\n",
      "0.024765552952885628\n",
      "0.01604127138853073\n",
      "0.010554501786828041\n"
     ]
    }
   ],
   "source": [
    "EPOCHS = 10000\n",
    "for i in range(EPOCHS):\n",
    "    loss = xor_model.fit(Xs,Ys)\n",
    "    if i % 1000 == 0:\n",
    "        print(loss)"
   ]
  },
  {
   "cell_type": "code",
   "execution_count": null,
   "id": "bec3daf3",
   "metadata": {},
   "outputs": [],
   "source": []
  }
 ],
 "metadata": {
  "kernelspec": {
   "display_name": "Python 3 (ipykernel)",
   "language": "python",
   "name": "python3"
  },
  "language_info": {
   "codemirror_mode": {
    "name": "ipython",
    "version": 3
   },
   "file_extension": ".py",
   "mimetype": "text/x-python",
   "name": "python",
   "nbconvert_exporter": "python",
   "pygments_lexer": "ipython3",
   "version": "3.10.9"
  }
 },
 "nbformat": 4,
 "nbformat_minor": 5
}
